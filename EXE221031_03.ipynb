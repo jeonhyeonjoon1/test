{
  "nbformat": 4,
  "nbformat_minor": 0,
  "metadata": {
    "colab": {
      "provenance": [],
      "authorship_tag": "ABX9TyOMdyxvaYO/n/9yC35vdSb6",
      "include_colab_link": true
    },
    "kernelspec": {
      "name": "python3",
      "display_name": "Python 3"
    },
    "language_info": {
      "name": "python"
    }
  },
  "cells": [
    {
      "cell_type": "markdown",
      "metadata": {
        "id": "view-in-github",
        "colab_type": "text"
      },
      "source": [
        "<a href=\"https://colab.research.google.com/github/jeonhyeonjoon1/test/blob/main/EXE221031_03.ipynb\" target=\"_parent\"><img src=\"https://colab.research.google.com/assets/colab-badge.svg\" alt=\"Open In Colab\"/></a>"
      ]
    },
    {
      "cell_type": "code",
      "execution_count": 2,
      "metadata": {
        "colab": {
          "base_uri": "https://localhost:8080/"
        },
        "id": "kKQgCOfj0ahL",
        "outputId": "415e2a87-62fd-47f4-c28d-c51011ffce2a"
      },
      "outputs": [
        {
          "output_type": "stream",
          "name": "stdout",
          "text": [
            "x의 값을 입력하시오.:10\n",
            "y의 값을 입력하시오.:20\n",
            "x와 y의 합은: 30\n",
            "x와 y의 차는: -10\n",
            "x와 y의 곱은: 200\n",
            "x와 y의 평균은: 15.0\n",
            "x와 y의 큰수는: 20\n",
            "x와 y의 작은수는: 10\n"
          ]
        }
      ],
      "source": [
        "x=int(input(\"x의 값을 입력하시오.:\"))\n",
        "y=int(input(\"y의 값을 입력하시오.:\"))\n",
        "print(\"x와 y의 합은:\",x+y)\n",
        "print(\"x와 y의 차는:\",x-y)\n",
        "print(\"x와 y의 곱은:\",x*y)\n",
        "print(\"x와 y의 평균은:\",(x+y)/2)\n",
        "print(\"x와 y의 큰수는:\",max(x,y))\n",
        "print(\"x와 y의 작은수는:\",min(x,y))"
      ]
    },
    {
      "cell_type": "code",
      "source": [
        "r=float(input(\"r의 값을 입력하시오:\"))     #변수 r의 값을 사용자로부터 받는다. float형으로\n",
        "h=float(input(\"h의 값을 입력하시오:\"))     #변수 h의 값을 사용자로부터 받는다. float형으로\n",
        "vol=3.141592*r**2*h\n",
        "print(\"원기둥의 부피는\",vol,\"입니다.\")"
      ],
      "metadata": {
        "colab": {
          "base_uri": "https://localhost:8080/"
        },
        "id": "un9nAgoy2LqN",
        "outputId": "9906f877-fff6-4473-8eb2-9d073a2ce631"
      },
      "execution_count": 4,
      "outputs": [
        {
          "output_type": "stream",
          "name": "stdout",
          "text": [
            "r의 값을 입력하시오:10\n",
            "h의 값을 입력하시오:100\n",
            "원기둥의 부피는 31415.92 입니다.\n"
          ]
        }
      ]
    },
    {
      "cell_type": "code",
      "source": [
        "number = int(input(\"정수를 입력하시오:\"))\n",
        "sum = 0                 #변수 sum을 0으로 초기화 한다.\n",
        "sum=sum+number%10\n",
        "number = number//10\n",
        "sum=sum+number%10\n",
        "number = number//10\n",
        "sum=sum+number%10\n",
        "number = number//10\n",
        "sum=sum+number%10\n",
        "number = number//10\n",
        "print(\"자리수의 합:\",str(sum))\n"
      ],
      "metadata": {
        "colab": {
          "base_uri": "https://localhost:8080/"
        },
        "id": "wwhu3K3e3-TC",
        "outputId": "0321080b-d1e3-4700-fd84-a33baa9ee715"
      },
      "execution_count": 16,
      "outputs": [
        {
          "output_type": "stream",
          "name": "stdout",
          "text": [
            "정수를 입력하시오:1234\n",
            "자리수의 합: 10\n"
          ]
        }
      ]
    },
    {
      "cell_type": "code",
      "source": [
        "x1=int(input(\"x1의 값:\"))\n",
        "y1=int(input(\"y1의 값:\"))\n",
        "x2=int(input(\"x2의 값:\"))\n",
        "y2=int(input(\"y2의 값:\"))\n",
        "dist=((x2-x1)**2+(y2-y1)**2)**0.5\n",
        "print(\"두점 사이의 거리=\",dist)"
      ],
      "metadata": {
        "colab": {
          "base_uri": "https://localhost:8080/"
        },
        "id": "l18k54e98K40",
        "outputId": "579fbab8-ee3e-4919-96f4-f0769fed3a4f"
      },
      "execution_count": 19,
      "outputs": [
        {
          "output_type": "stream",
          "name": "stdout",
          "text": [
            "x1의 값:0\n",
            "y1의 값:0\n",
            "x2의 값:100\n",
            "y2의 값:100\n",
            "두점 사이의 거리= 141.4213562373095\n"
          ]
        }
      ]
    },
    {
      "cell_type": "code",
      "source": [
        ">>> import math\n",
        ">>> x1=int(input(\"x1:\"))\n",
        "x1:0\n",
        ">>> y1=int(input(\"y1:\"))\n",
        "y1:0\n",
        ">>> x2=int(input(\"x2:\"))\n",
        "x2:100\n",
        ">>> y2=int(input(\"y2:\"))\n",
        "y2:100\n",
        ">>> dist=math.sqrt((x2-x1)**2+(y2-y1)**2)\n",
        ">>> print(\"두점사이의 거리는=\",dist)\n",
        "두점사이의 거리는= 141.4213562373095\n",
        ">>> import turtle\n",
        ">>> t=turtle.Turtle()\n",
        "t.shape(\"turtle\")\n",
        ">>> t.lt(45)\n",
        ">>> t.fd(141)\n",
        ">>> t.setheading(0)\n",
        ">>> t.goto(0,0)\n",
        ">>> t.fd(100)\n",
        ">>> t.lt(90)\n",
        ">>> t.fd(100)\n",
        ">>> t.write(\"점의길이\"+str(dist))"
      ],
      "metadata": {
        "id": "sep7PKxwHRst"
      },
      "execution_count": null,
      "outputs": []
    }
  ]
}